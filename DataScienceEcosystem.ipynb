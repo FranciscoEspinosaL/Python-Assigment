{
 "cells": [
  {
   "cell_type": "markdown",
   "id": "92d63115",
   "metadata": {},
   "source": [
    "# Data Science Tools and Ecosystem"
   ]
  },
  {
   "cell_type": "markdown",
   "id": "a03edab9",
   "metadata": {},
   "source": [
    "**Objectives**\n",
    "\n",
    "- Define some of the popular languages that Data Scientists use\n",
    "- Define some of the commonly used librarys by Data Scientists\n",
    "- List 3 Data Scientist Tools\n",
    "- Use arithmetic expressions"
   ]
  },
  {
   "cell_type": "markdown",
   "id": "0b1d0cbf",
   "metadata": {},
   "source": [
    "### Este cuaderno tiene el fin de demostrar las habilidades de un cientifico de datos en progreso. En este cuaderno se utilizan varios elementos basicos para la programación para uso de la ciencia de datos del curso Tools For Data Science."
   ]
  },
  {
   "cell_type": "markdown",
   "id": "81e8afb8",
   "metadata": {},
   "source": [
    "# Some of the popular languages that Data Scientists use are:\n",
    "1. Python\n",
    "2. R\n",
    "3. Julia\n",
    "4. Java"
   ]
  },
  {
   "cell_type": "markdown",
   "id": "d08b7554",
   "metadata": {},
   "source": [
    "# Some of the commonly used libraries used by Data Scientists include:"
   ]
  },
  {
   "cell_type": "markdown",
   "id": "2c8f8976",
   "metadata": {},
   "source": [
    "1. Keras\n",
    "2. Tensor Flow\n",
    "3. Pytorch"
   ]
  },
  {
   "cell_type": "markdown",
   "id": "4938122d",
   "metadata": {},
   "source": [
    "| Data Science Tools | \n",
    "| ------------------ |\n",
    "| Anaconda |\n",
    "| R studio |\n",
    "| Jupyter Lab |"
   ]
  },
  {
   "cell_type": "markdown",
   "id": "66306798",
   "metadata": {},
   "source": [
    "### Below are a few examples of evaluating arithmetic expressions in Python"
   ]
  },
  {
   "cell_type": "code",
   "execution_count": 4,
   "id": "d3530e4f",
   "metadata": {},
   "outputs": [
    {
     "data": {
      "text/plain": [
       "17"
      ]
     },
     "execution_count": 4,
     "metadata": {},
     "output_type": "execute_result"
    }
   ],
   "source": [
    "# This a simple arithmetic expression to mutiply then add integers\n",
    "\n",
    "(3*4)+5"
   ]
  },
  {
   "cell_type": "code",
   "execution_count": 7,
   "id": "25e00b6f",
   "metadata": {},
   "outputs": [
    {
     "name": "stdout",
     "output_type": "stream",
     "text": [
      "3.3333333333333335 hrs\n"
     ]
    }
   ],
   "source": [
    "# This will convert 200 minutes to hours by diving by 60\n",
    "print(200/60, \"hrs\")"
   ]
  },
  {
   "cell_type": "markdown",
   "id": "81f00daa",
   "metadata": {},
   "source": [
    "## Author:\n",
    "##### Francisco Javier Espinosa Limón"
   ]
  },
  {
   "cell_type": "code",
   "execution_count": null,
   "id": "ae7e45b6",
   "metadata": {},
   "outputs": [],
   "source": []
  }
 ],
 "metadata": {
  "kernelspec": {
   "display_name": "Python 3 (ipykernel)",
   "language": "python",
   "name": "python3"
  },
  "language_info": {
   "codemirror_mode": {
    "name": "ipython",
    "version": 3
   },
   "file_extension": ".py",
   "mimetype": "text/x-python",
   "name": "python",
   "nbconvert_exporter": "python",
   "pygments_lexer": "ipython3",
   "version": "3.11.4"
  }
 },
 "nbformat": 4,
 "nbformat_minor": 5
}
